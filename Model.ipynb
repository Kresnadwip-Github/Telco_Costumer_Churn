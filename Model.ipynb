{
 "cells": [
  {
   "cell_type": "markdown",
   "metadata": {},
   "source": [
    "# Library"
   ]
  },
  {
   "cell_type": "code",
   "execution_count": 56,
   "metadata": {},
   "outputs": [],
   "source": [
    "import pandas as pd\n",
    "import numpy as np\n",
    "\n",
    "from sklearn.pipeline import Pipeline\n",
    "from sklearn.preprocessing import StandardScaler, OneHotEncoder\n",
    "from sklearn.model_selection import train_test_split, RandomizedSearchCV, GridSearchCV, cross_val_score, StratifiedKFold, RepeatedStratifiedKFold\n",
    "from sklearn.feature_selection import SelectPercentile\n",
    "\n",
    "from sklearn.linear_model import LogisticRegression\n",
    "from sklearn.tree import DecisionTreeClassifier\n",
    "from sklearn.ensemble import RandomForestClassifier\n",
    "\n",
    "import matplotlib.pyplot as plt\n",
    "import category_encoders as ce\n",
    "from sklearn.compose import ColumnTransformer\n",
    "from sklearn.decomposition import PCA\n",
    "from sklearn.metrics import confusion_matrix,classification_report, plot_confusion_matrix, plot_precision_recall_curve\n",
    "\n",
    "import warnings\n"
   ]
  },
  {
   "cell_type": "markdown",
   "metadata": {},
   "source": [
    "# Data"
   ]
  },
  {
   "cell_type": "code",
   "execution_count": 2,
   "metadata": {},
   "outputs": [
    {
     "data": {
      "text/html": [
       "<div>\n",
       "<style scoped>\n",
       "    .dataframe tbody tr th:only-of-type {\n",
       "        vertical-align: middle;\n",
       "    }\n",
       "\n",
       "    .dataframe tbody tr th {\n",
       "        vertical-align: top;\n",
       "    }\n",
       "\n",
       "    .dataframe thead th {\n",
       "        text-align: right;\n",
       "    }\n",
       "</style>\n",
       "<table border=\"1\" class=\"dataframe\">\n",
       "  <thead>\n",
       "    <tr style=\"text-align: right;\">\n",
       "      <th></th>\n",
       "      <th>CustomerID</th>\n",
       "      <th>Gender</th>\n",
       "      <th>SeniorCitizen</th>\n",
       "      <th>Partner</th>\n",
       "      <th>Dependents</th>\n",
       "      <th>TenureMonths</th>\n",
       "      <th>PhoneService</th>\n",
       "      <th>MultipleLines</th>\n",
       "      <th>InternetService</th>\n",
       "      <th>OnlineSecurity</th>\n",
       "      <th>...</th>\n",
       "      <th>DeviceProtection</th>\n",
       "      <th>TechSupport</th>\n",
       "      <th>StreamingTV</th>\n",
       "      <th>StreamingMovies</th>\n",
       "      <th>Contract</th>\n",
       "      <th>PaperlessBilling</th>\n",
       "      <th>PaymentMethod</th>\n",
       "      <th>MonthlyCharges</th>\n",
       "      <th>TotalCharges</th>\n",
       "      <th>Churn</th>\n",
       "    </tr>\n",
       "  </thead>\n",
       "  <tbody>\n",
       "    <tr>\n",
       "      <th>0</th>\n",
       "      <td>7590-VHVEG</td>\n",
       "      <td>Female</td>\n",
       "      <td>No</td>\n",
       "      <td>Yes</td>\n",
       "      <td>No</td>\n",
       "      <td>1</td>\n",
       "      <td>No</td>\n",
       "      <td>No phone service</td>\n",
       "      <td>DSL</td>\n",
       "      <td>No</td>\n",
       "      <td>...</td>\n",
       "      <td>No</td>\n",
       "      <td>No</td>\n",
       "      <td>No</td>\n",
       "      <td>No</td>\n",
       "      <td>Month-to-month</td>\n",
       "      <td>Yes</td>\n",
       "      <td>Electronic check</td>\n",
       "      <td>29.85</td>\n",
       "      <td>29.85</td>\n",
       "      <td>0</td>\n",
       "    </tr>\n",
       "    <tr>\n",
       "      <th>1</th>\n",
       "      <td>5575-GNVDE</td>\n",
       "      <td>Male</td>\n",
       "      <td>No</td>\n",
       "      <td>No</td>\n",
       "      <td>No</td>\n",
       "      <td>34</td>\n",
       "      <td>Yes</td>\n",
       "      <td>No</td>\n",
       "      <td>DSL</td>\n",
       "      <td>Yes</td>\n",
       "      <td>...</td>\n",
       "      <td>Yes</td>\n",
       "      <td>No</td>\n",
       "      <td>No</td>\n",
       "      <td>No</td>\n",
       "      <td>One year</td>\n",
       "      <td>No</td>\n",
       "      <td>Mailed check</td>\n",
       "      <td>56.95</td>\n",
       "      <td>1889.50</td>\n",
       "      <td>0</td>\n",
       "    </tr>\n",
       "    <tr>\n",
       "      <th>2</th>\n",
       "      <td>3668-QPYBK</td>\n",
       "      <td>Male</td>\n",
       "      <td>No</td>\n",
       "      <td>No</td>\n",
       "      <td>No</td>\n",
       "      <td>2</td>\n",
       "      <td>Yes</td>\n",
       "      <td>No</td>\n",
       "      <td>DSL</td>\n",
       "      <td>Yes</td>\n",
       "      <td>...</td>\n",
       "      <td>No</td>\n",
       "      <td>No</td>\n",
       "      <td>No</td>\n",
       "      <td>No</td>\n",
       "      <td>Month-to-month</td>\n",
       "      <td>Yes</td>\n",
       "      <td>Mailed check</td>\n",
       "      <td>53.85</td>\n",
       "      <td>108.15</td>\n",
       "      <td>1</td>\n",
       "    </tr>\n",
       "    <tr>\n",
       "      <th>3</th>\n",
       "      <td>7795-CFOCW</td>\n",
       "      <td>Male</td>\n",
       "      <td>No</td>\n",
       "      <td>No</td>\n",
       "      <td>No</td>\n",
       "      <td>45</td>\n",
       "      <td>No</td>\n",
       "      <td>No phone service</td>\n",
       "      <td>DSL</td>\n",
       "      <td>Yes</td>\n",
       "      <td>...</td>\n",
       "      <td>Yes</td>\n",
       "      <td>Yes</td>\n",
       "      <td>No</td>\n",
       "      <td>No</td>\n",
       "      <td>One year</td>\n",
       "      <td>No</td>\n",
       "      <td>Bank transfer (automatic)</td>\n",
       "      <td>42.30</td>\n",
       "      <td>1840.75</td>\n",
       "      <td>0</td>\n",
       "    </tr>\n",
       "    <tr>\n",
       "      <th>4</th>\n",
       "      <td>9237-HQITU</td>\n",
       "      <td>Female</td>\n",
       "      <td>No</td>\n",
       "      <td>No</td>\n",
       "      <td>No</td>\n",
       "      <td>2</td>\n",
       "      <td>Yes</td>\n",
       "      <td>No</td>\n",
       "      <td>Fiber optic</td>\n",
       "      <td>No</td>\n",
       "      <td>...</td>\n",
       "      <td>No</td>\n",
       "      <td>No</td>\n",
       "      <td>No</td>\n",
       "      <td>No</td>\n",
       "      <td>Month-to-month</td>\n",
       "      <td>Yes</td>\n",
       "      <td>Electronic check</td>\n",
       "      <td>70.70</td>\n",
       "      <td>151.65</td>\n",
       "      <td>1</td>\n",
       "    </tr>\n",
       "    <tr>\n",
       "      <th>...</th>\n",
       "      <td>...</td>\n",
       "      <td>...</td>\n",
       "      <td>...</td>\n",
       "      <td>...</td>\n",
       "      <td>...</td>\n",
       "      <td>...</td>\n",
       "      <td>...</td>\n",
       "      <td>...</td>\n",
       "      <td>...</td>\n",
       "      <td>...</td>\n",
       "      <td>...</td>\n",
       "      <td>...</td>\n",
       "      <td>...</td>\n",
       "      <td>...</td>\n",
       "      <td>...</td>\n",
       "      <td>...</td>\n",
       "      <td>...</td>\n",
       "      <td>...</td>\n",
       "      <td>...</td>\n",
       "      <td>...</td>\n",
       "      <td>...</td>\n",
       "    </tr>\n",
       "    <tr>\n",
       "      <th>7027</th>\n",
       "      <td>6840-RESVB</td>\n",
       "      <td>Male</td>\n",
       "      <td>No</td>\n",
       "      <td>Yes</td>\n",
       "      <td>Yes</td>\n",
       "      <td>24</td>\n",
       "      <td>Yes</td>\n",
       "      <td>Yes</td>\n",
       "      <td>DSL</td>\n",
       "      <td>Yes</td>\n",
       "      <td>...</td>\n",
       "      <td>Yes</td>\n",
       "      <td>Yes</td>\n",
       "      <td>Yes</td>\n",
       "      <td>Yes</td>\n",
       "      <td>One year</td>\n",
       "      <td>Yes</td>\n",
       "      <td>Mailed check</td>\n",
       "      <td>84.80</td>\n",
       "      <td>1990.50</td>\n",
       "      <td>0</td>\n",
       "    </tr>\n",
       "    <tr>\n",
       "      <th>7028</th>\n",
       "      <td>2234-XADUH</td>\n",
       "      <td>Female</td>\n",
       "      <td>No</td>\n",
       "      <td>Yes</td>\n",
       "      <td>Yes</td>\n",
       "      <td>72</td>\n",
       "      <td>Yes</td>\n",
       "      <td>Yes</td>\n",
       "      <td>Fiber optic</td>\n",
       "      <td>No</td>\n",
       "      <td>...</td>\n",
       "      <td>Yes</td>\n",
       "      <td>No</td>\n",
       "      <td>Yes</td>\n",
       "      <td>Yes</td>\n",
       "      <td>One year</td>\n",
       "      <td>Yes</td>\n",
       "      <td>Credit card (automatic)</td>\n",
       "      <td>103.20</td>\n",
       "      <td>7362.90</td>\n",
       "      <td>0</td>\n",
       "    </tr>\n",
       "    <tr>\n",
       "      <th>7029</th>\n",
       "      <td>4801-JZAZL</td>\n",
       "      <td>Female</td>\n",
       "      <td>No</td>\n",
       "      <td>Yes</td>\n",
       "      <td>Yes</td>\n",
       "      <td>11</td>\n",
       "      <td>No</td>\n",
       "      <td>No phone service</td>\n",
       "      <td>DSL</td>\n",
       "      <td>Yes</td>\n",
       "      <td>...</td>\n",
       "      <td>No</td>\n",
       "      <td>No</td>\n",
       "      <td>No</td>\n",
       "      <td>No</td>\n",
       "      <td>Month-to-month</td>\n",
       "      <td>Yes</td>\n",
       "      <td>Electronic check</td>\n",
       "      <td>29.60</td>\n",
       "      <td>346.45</td>\n",
       "      <td>0</td>\n",
       "    </tr>\n",
       "    <tr>\n",
       "      <th>7030</th>\n",
       "      <td>8361-LTMKD</td>\n",
       "      <td>Male</td>\n",
       "      <td>Yes</td>\n",
       "      <td>Yes</td>\n",
       "      <td>No</td>\n",
       "      <td>4</td>\n",
       "      <td>Yes</td>\n",
       "      <td>Yes</td>\n",
       "      <td>Fiber optic</td>\n",
       "      <td>No</td>\n",
       "      <td>...</td>\n",
       "      <td>No</td>\n",
       "      <td>No</td>\n",
       "      <td>No</td>\n",
       "      <td>No</td>\n",
       "      <td>Month-to-month</td>\n",
       "      <td>Yes</td>\n",
       "      <td>Mailed check</td>\n",
       "      <td>74.40</td>\n",
       "      <td>306.60</td>\n",
       "      <td>1</td>\n",
       "    </tr>\n",
       "    <tr>\n",
       "      <th>7031</th>\n",
       "      <td>3186-AJIEK</td>\n",
       "      <td>Male</td>\n",
       "      <td>No</td>\n",
       "      <td>No</td>\n",
       "      <td>No</td>\n",
       "      <td>66</td>\n",
       "      <td>Yes</td>\n",
       "      <td>No</td>\n",
       "      <td>Fiber optic</td>\n",
       "      <td>Yes</td>\n",
       "      <td>...</td>\n",
       "      <td>Yes</td>\n",
       "      <td>Yes</td>\n",
       "      <td>Yes</td>\n",
       "      <td>Yes</td>\n",
       "      <td>Two year</td>\n",
       "      <td>Yes</td>\n",
       "      <td>Bank transfer (automatic)</td>\n",
       "      <td>105.65</td>\n",
       "      <td>6844.50</td>\n",
       "      <td>0</td>\n",
       "    </tr>\n",
       "  </tbody>\n",
       "</table>\n",
       "<p>7032 rows × 21 columns</p>\n",
       "</div>"
      ],
      "text/plain": [
       "      CustomerID  Gender SeniorCitizen Partner Dependents  TenureMonths  \\\n",
       "0     7590-VHVEG  Female            No     Yes         No             1   \n",
       "1     5575-GNVDE    Male            No      No         No            34   \n",
       "2     3668-QPYBK    Male            No      No         No             2   \n",
       "3     7795-CFOCW    Male            No      No         No            45   \n",
       "4     9237-HQITU  Female            No      No         No             2   \n",
       "...          ...     ...           ...     ...        ...           ...   \n",
       "7027  6840-RESVB    Male            No     Yes        Yes            24   \n",
       "7028  2234-XADUH  Female            No     Yes        Yes            72   \n",
       "7029  4801-JZAZL  Female            No     Yes        Yes            11   \n",
       "7030  8361-LTMKD    Male           Yes     Yes         No             4   \n",
       "7031  3186-AJIEK    Male            No      No         No            66   \n",
       "\n",
       "     PhoneService     MultipleLines InternetService OnlineSecurity  ...  \\\n",
       "0              No  No phone service             DSL             No  ...   \n",
       "1             Yes                No             DSL            Yes  ...   \n",
       "2             Yes                No             DSL            Yes  ...   \n",
       "3              No  No phone service             DSL            Yes  ...   \n",
       "4             Yes                No     Fiber optic             No  ...   \n",
       "...           ...               ...             ...            ...  ...   \n",
       "7027          Yes               Yes             DSL            Yes  ...   \n",
       "7028          Yes               Yes     Fiber optic             No  ...   \n",
       "7029           No  No phone service             DSL            Yes  ...   \n",
       "7030          Yes               Yes     Fiber optic             No  ...   \n",
       "7031          Yes                No     Fiber optic            Yes  ...   \n",
       "\n",
       "     DeviceProtection TechSupport StreamingTV StreamingMovies        Contract  \\\n",
       "0                  No          No          No              No  Month-to-month   \n",
       "1                 Yes          No          No              No        One year   \n",
       "2                  No          No          No              No  Month-to-month   \n",
       "3                 Yes         Yes          No              No        One year   \n",
       "4                  No          No          No              No  Month-to-month   \n",
       "...               ...         ...         ...             ...             ...   \n",
       "7027              Yes         Yes         Yes             Yes        One year   \n",
       "7028              Yes          No         Yes             Yes        One year   \n",
       "7029               No          No          No              No  Month-to-month   \n",
       "7030               No          No          No              No  Month-to-month   \n",
       "7031              Yes         Yes         Yes             Yes        Two year   \n",
       "\n",
       "     PaperlessBilling              PaymentMethod MonthlyCharges  TotalCharges  \\\n",
       "0                 Yes           Electronic check          29.85         29.85   \n",
       "1                  No               Mailed check          56.95       1889.50   \n",
       "2                 Yes               Mailed check          53.85        108.15   \n",
       "3                  No  Bank transfer (automatic)          42.30       1840.75   \n",
       "4                 Yes           Electronic check          70.70        151.65   \n",
       "...               ...                        ...            ...           ...   \n",
       "7027              Yes               Mailed check          84.80       1990.50   \n",
       "7028              Yes    Credit card (automatic)         103.20       7362.90   \n",
       "7029              Yes           Electronic check          29.60        346.45   \n",
       "7030              Yes               Mailed check          74.40        306.60   \n",
       "7031              Yes  Bank transfer (automatic)         105.65       6844.50   \n",
       "\n",
       "      Churn  \n",
       "0         0  \n",
       "1         0  \n",
       "2         1  \n",
       "3         0  \n",
       "4         1  \n",
       "...     ...  \n",
       "7027      0  \n",
       "7028      0  \n",
       "7029      0  \n",
       "7030      1  \n",
       "7031      0  \n",
       "\n",
       "[7032 rows x 21 columns]"
      ]
     },
     "execution_count": 2,
     "metadata": {},
     "output_type": "execute_result"
    }
   ],
   "source": [
    "df = pd.read_csv('telco.csv')\n",
    "df"
   ]
  },
  {
   "cell_type": "markdown",
   "metadata": {},
   "source": [
    "# EDA"
   ]
  },
  {
   "cell_type": "code",
   "execution_count": 3,
   "metadata": {},
   "outputs": [
    {
     "name": "stdout",
     "output_type": "stream",
     "text": [
      "<class 'pandas.core.frame.DataFrame'>\n",
      "RangeIndex: 7032 entries, 0 to 7031\n",
      "Data columns (total 21 columns):\n",
      " #   Column            Non-Null Count  Dtype  \n",
      "---  ------            --------------  -----  \n",
      " 0   CustomerID        7032 non-null   object \n",
      " 1   Gender            7032 non-null   object \n",
      " 2   SeniorCitizen     7032 non-null   object \n",
      " 3   Partner           7032 non-null   object \n",
      " 4   Dependents        7032 non-null   object \n",
      " 5   TenureMonths      7032 non-null   int64  \n",
      " 6   PhoneService      7032 non-null   object \n",
      " 7   MultipleLines     7032 non-null   object \n",
      " 8   InternetService   7032 non-null   object \n",
      " 9   OnlineSecurity    7032 non-null   object \n",
      " 10  OnlineBackup      7032 non-null   object \n",
      " 11  DeviceProtection  7032 non-null   object \n",
      " 12  TechSupport       7032 non-null   object \n",
      " 13  StreamingTV       7032 non-null   object \n",
      " 14  StreamingMovies   7032 non-null   object \n",
      " 15  Contract          7032 non-null   object \n",
      " 16  PaperlessBilling  7032 non-null   object \n",
      " 17  PaymentMethod     7032 non-null   object \n",
      " 18  MonthlyCharges    7032 non-null   float64\n",
      " 19  TotalCharges      7032 non-null   float64\n",
      " 20  Churn             7032 non-null   int64  \n",
      "dtypes: float64(2), int64(2), object(17)\n",
      "memory usage: 1.1+ MB\n"
     ]
    }
   ],
   "source": [
    "df.info()"
   ]
  },
  {
   "cell_type": "code",
   "execution_count": 4,
   "metadata": {},
   "outputs": [
    {
     "data": {
      "text/html": [
       "<div>\n",
       "<style scoped>\n",
       "    .dataframe tbody tr th:only-of-type {\n",
       "        vertical-align: middle;\n",
       "    }\n",
       "\n",
       "    .dataframe tbody tr th {\n",
       "        vertical-align: top;\n",
       "    }\n",
       "\n",
       "    .dataframe thead th {\n",
       "        text-align: right;\n",
       "    }\n",
       "</style>\n",
       "<table border=\"1\" class=\"dataframe\">\n",
       "  <thead>\n",
       "    <tr style=\"text-align: right;\">\n",
       "      <th></th>\n",
       "      <th>TenureMonths</th>\n",
       "      <th>MonthlyCharges</th>\n",
       "      <th>TotalCharges</th>\n",
       "      <th>Churn</th>\n",
       "    </tr>\n",
       "  </thead>\n",
       "  <tbody>\n",
       "    <tr>\n",
       "      <th>count</th>\n",
       "      <td>7032.000000</td>\n",
       "      <td>7032.000000</td>\n",
       "      <td>7032.000000</td>\n",
       "      <td>7032.000000</td>\n",
       "    </tr>\n",
       "    <tr>\n",
       "      <th>mean</th>\n",
       "      <td>32.421786</td>\n",
       "      <td>64.798208</td>\n",
       "      <td>2283.300441</td>\n",
       "      <td>0.265785</td>\n",
       "    </tr>\n",
       "    <tr>\n",
       "      <th>std</th>\n",
       "      <td>24.545260</td>\n",
       "      <td>30.085974</td>\n",
       "      <td>2266.771362</td>\n",
       "      <td>0.441782</td>\n",
       "    </tr>\n",
       "    <tr>\n",
       "      <th>min</th>\n",
       "      <td>1.000000</td>\n",
       "      <td>18.250000</td>\n",
       "      <td>18.800000</td>\n",
       "      <td>0.000000</td>\n",
       "    </tr>\n",
       "    <tr>\n",
       "      <th>25%</th>\n",
       "      <td>9.000000</td>\n",
       "      <td>35.587500</td>\n",
       "      <td>401.450000</td>\n",
       "      <td>0.000000</td>\n",
       "    </tr>\n",
       "    <tr>\n",
       "      <th>50%</th>\n",
       "      <td>29.000000</td>\n",
       "      <td>70.350000</td>\n",
       "      <td>1397.475000</td>\n",
       "      <td>0.000000</td>\n",
       "    </tr>\n",
       "    <tr>\n",
       "      <th>75%</th>\n",
       "      <td>55.000000</td>\n",
       "      <td>89.862500</td>\n",
       "      <td>3794.737500</td>\n",
       "      <td>1.000000</td>\n",
       "    </tr>\n",
       "    <tr>\n",
       "      <th>max</th>\n",
       "      <td>72.000000</td>\n",
       "      <td>118.750000</td>\n",
       "      <td>8684.800000</td>\n",
       "      <td>1.000000</td>\n",
       "    </tr>\n",
       "  </tbody>\n",
       "</table>\n",
       "</div>"
      ],
      "text/plain": [
       "       TenureMonths  MonthlyCharges  TotalCharges        Churn\n",
       "count   7032.000000     7032.000000   7032.000000  7032.000000\n",
       "mean      32.421786       64.798208   2283.300441     0.265785\n",
       "std       24.545260       30.085974   2266.771362     0.441782\n",
       "min        1.000000       18.250000     18.800000     0.000000\n",
       "25%        9.000000       35.587500    401.450000     0.000000\n",
       "50%       29.000000       70.350000   1397.475000     0.000000\n",
       "75%       55.000000       89.862500   3794.737500     1.000000\n",
       "max       72.000000      118.750000   8684.800000     1.000000"
      ]
     },
     "execution_count": 4,
     "metadata": {},
     "output_type": "execute_result"
    }
   ],
   "source": [
    "df.describe()"
   ]
  },
  {
   "cell_type": "code",
   "execution_count": 5,
   "metadata": {},
   "outputs": [
    {
     "data": {
      "text/plain": [
       "CustomerID          0\n",
       "Gender              0\n",
       "SeniorCitizen       0\n",
       "Partner             0\n",
       "Dependents          0\n",
       "TenureMonths        0\n",
       "PhoneService        0\n",
       "MultipleLines       0\n",
       "InternetService     0\n",
       "OnlineSecurity      0\n",
       "OnlineBackup        0\n",
       "DeviceProtection    0\n",
       "TechSupport         0\n",
       "StreamingTV         0\n",
       "StreamingMovies     0\n",
       "Contract            0\n",
       "PaperlessBilling    0\n",
       "PaymentMethod       0\n",
       "MonthlyCharges      0\n",
       "TotalCharges        0\n",
       "Churn               0\n",
       "dtype: int64"
      ]
     },
     "execution_count": 5,
     "metadata": {},
     "output_type": "execute_result"
    }
   ],
   "source": [
    "df.isnull().sum()"
   ]
  },
  {
   "cell_type": "code",
   "execution_count": 6,
   "metadata": {},
   "outputs": [
    {
     "data": {
      "text/html": [
       "<div>\n",
       "<style scoped>\n",
       "    .dataframe tbody tr th:only-of-type {\n",
       "        vertical-align: middle;\n",
       "    }\n",
       "\n",
       "    .dataframe tbody tr th {\n",
       "        vertical-align: top;\n",
       "    }\n",
       "\n",
       "    .dataframe thead th {\n",
       "        text-align: right;\n",
       "    }\n",
       "</style>\n",
       "<table border=\"1\" class=\"dataframe\">\n",
       "  <thead>\n",
       "    <tr style=\"text-align: right;\">\n",
       "      <th></th>\n",
       "      <th>TenureMonths</th>\n",
       "      <th>MonthlyCharges</th>\n",
       "      <th>TotalCharges</th>\n",
       "      <th>Churn</th>\n",
       "    </tr>\n",
       "  </thead>\n",
       "  <tbody>\n",
       "    <tr>\n",
       "      <th>TenureMonths</th>\n",
       "      <td>1.000000</td>\n",
       "      <td>0.246862</td>\n",
       "      <td>0.825880</td>\n",
       "      <td>-0.354049</td>\n",
       "    </tr>\n",
       "    <tr>\n",
       "      <th>MonthlyCharges</th>\n",
       "      <td>0.246862</td>\n",
       "      <td>1.000000</td>\n",
       "      <td>0.651065</td>\n",
       "      <td>0.192858</td>\n",
       "    </tr>\n",
       "    <tr>\n",
       "      <th>TotalCharges</th>\n",
       "      <td>0.825880</td>\n",
       "      <td>0.651065</td>\n",
       "      <td>1.000000</td>\n",
       "      <td>-0.199484</td>\n",
       "    </tr>\n",
       "    <tr>\n",
       "      <th>Churn</th>\n",
       "      <td>-0.354049</td>\n",
       "      <td>0.192858</td>\n",
       "      <td>-0.199484</td>\n",
       "      <td>1.000000</td>\n",
       "    </tr>\n",
       "  </tbody>\n",
       "</table>\n",
       "</div>"
      ],
      "text/plain": [
       "                TenureMonths  MonthlyCharges  TotalCharges     Churn\n",
       "TenureMonths        1.000000        0.246862      0.825880 -0.354049\n",
       "MonthlyCharges      0.246862        1.000000      0.651065  0.192858\n",
       "TotalCharges        0.825880        0.651065      1.000000 -0.199484\n",
       "Churn              -0.354049        0.192858     -0.199484  1.000000"
      ]
     },
     "execution_count": 6,
     "metadata": {},
     "output_type": "execute_result"
    }
   ],
   "source": [
    "df.corr()"
   ]
  },
  {
   "cell_type": "markdown",
   "metadata": {},
   "source": [
    "Ternyata terdapat korelasi yang tinggi antara TotalCharges dengan Tenure Months, dan juga terdapat korelasi cukup tinggi antara TotalCharges dengan MonthlyCharges. Indikasi Multikolinearitas ini dapat kita atasi dengan PCA."
   ]
  },
  {
   "cell_type": "markdown",
   "metadata": {},
   "source": [
    "# Data Splitting"
   ]
  },
  {
   "cell_type": "code",
   "execution_count": 7,
   "metadata": {},
   "outputs": [],
   "source": [
    "x = df.drop(['CustomerID','Churn'], axis = 1)\n",
    "y = df['Churn']"
   ]
  },
  {
   "cell_type": "code",
   "execution_count": 8,
   "metadata": {},
   "outputs": [],
   "source": [
    "x_train, x_test, y_train, y_test = train_test_split(x ,y ,test_size = 0.25, random_state = 2021, stratify= y ) "
   ]
  },
  {
   "cell_type": "markdown",
   "metadata": {},
   "source": [
    "# Pipeline Preprocessing"
   ]
  },
  {
   "cell_type": "code",
   "execution_count": 9,
   "metadata": {},
   "outputs": [],
   "source": [
    "# Membagi fitur berdasarkan encodingnya\n",
    "onehot = ['Gender','Partner','Dependents','PhoneService','PaperlessBilling','SeniorCitizen']\n",
    "binary =['MultipleLines','OnlineSecurity','OnlineBackup','DeviceProtection','TechSupport','StreamingTV','StreamingMovies','InternetService','Contract','PaymentMethod']"
   ]
  },
  {
   "cell_type": "code",
   "execution_count": 10,
   "metadata": {},
   "outputs": [],
   "source": [
    "# Model\n",
    "logreg = LogisticRegression(random_state=2021, class_weight='balanced')\n",
    "tree = DecisionTreeClassifier(random_state=2021, class_weight='balanced')\n",
    "rf = RandomForestClassifier(random_state=2021, class_weight='balanced')"
   ]
  },
  {
   "cell_type": "code",
   "execution_count": 11,
   "metadata": {},
   "outputs": [],
   "source": [
    "# Untuk fitur Numerik\n",
    "pipe_num = Pipeline([\n",
    "    ('Scaler', StandardScaler()),\n",
    "    ('PCA', PCA(n_components=3))\n",
    "])\n",
    "\n",
    "# Untuk Fitur Kategorik \n",
    "pipe_onehot = Pipeline([\n",
    "    ('Onehot', OneHotEncoder(drop='first'))\n",
    "])\n",
    "\n",
    "pipe_binary = Pipeline([\n",
    "    ('Binary', ce.BinaryEncoder())\n",
    "])\n",
    "\n",
    "# transformasi semua kolom\n",
    "transformer = ColumnTransformer([\n",
    "    ('Pipe_Num', pipe_num, ['TenureMonths', 'MonthlyCharges','TotalCharges']),\n",
    "    ('Pipe_Kat_onehot', pipe_onehot, onehot),\n",
    "    ('Pipe_Kat_binary', pipe_binary, binary)\n",
    "], remainder = 'passthrough')"
   ]
  },
  {
   "cell_type": "markdown",
   "metadata": {},
   "source": [
    "# Base Model"
   ]
  },
  {
   "cell_type": "markdown",
   "metadata": {},
   "source": [
    "## 1. Logistic Regression"
   ]
  },
  {
   "cell_type": "code",
   "execution_count": 12,
   "metadata": {},
   "outputs": [],
   "source": [
    "# Menggabungkan Semua Pipeline\n",
    "logreg_pipe_all = Pipeline([\n",
    "    ('transformer', transformer),\n",
    "    ('logreg', logreg)\n",
    "])"
   ]
  },
  {
   "cell_type": "code",
   "execution_count": 13,
   "metadata": {},
   "outputs": [
    {
     "name": "stderr",
     "output_type": "stream",
     "text": [
      "[Parallel(n_jobs=-1)]: Using backend LokyBackend with 12 concurrent workers.\n",
      "[Parallel(n_jobs=-1)]: Done  26 tasks      | elapsed:    5.8s\n",
      "[Parallel(n_jobs=-1)]: Done  50 out of  50 | elapsed:    7.4s finished\n"
     ]
    }
   ],
   "source": [
    "rskf = RepeatedStratifiedKFold(random_state=2021)\n",
    "logreg_cv = cross_val_score(logreg_pipe_all, x_train, y_train, cv = rskf, scoring='recall', verbose = 1, n_jobs = -1)"
   ]
  },
  {
   "cell_type": "code",
   "execution_count": 171,
   "metadata": {},
   "outputs": [
    {
     "name": "stdout",
     "output_type": "stream",
     "text": [
      "CV Logistic Regression [0.76156584 0.75800712 0.83214286 0.80714286 0.84642857 0.79715302\n",
      " 0.83629893 0.75       0.81428571 0.83571429 0.8113879  0.7544484\n",
      " 0.83928571 0.79642857 0.80714286 0.82562278 0.80427046 0.80357143\n",
      " 0.79285714 0.79642857 0.85053381 0.78647687 0.78214286 0.78928571\n",
      " 0.81071429 0.77224199 0.78291815 0.79642857 0.81785714 0.82857143\n",
      " 0.79715302 0.84697509 0.79285714 0.78928571 0.79642857 0.74021352\n",
      " 0.80071174 0.83928571 0.81071429 0.8        0.79003559 0.81850534\n",
      " 0.79285714 0.81428571 0.79285714 0.8113879  0.78291815 0.81785714\n",
      " 0.77857143 0.825     ]\n",
      "CV Logistic Regression Mean = 0.8025050838840876\n",
      "CV Logistic Regression Max =  0.8505338078291815\n",
      "CV Logistic Regression Min =  0.7402135231316725\n",
      "CV Logistic Regression STD =  0.025190902699764893\n"
     ]
    }
   ],
   "source": [
    "print('CV Logistic Regression', logreg_cv)\n",
    "print('CV Logistic Regression Mean =', logreg_cv.mean())\n",
    "print('CV Logistic Regression Max = ', logreg_cv.max())\n",
    "print('CV Logistic Regression Min = ', logreg_cv.min())\n",
    "print('CV Logistic Regression STD = ', logreg_cv.std())"
   ]
  },
  {
   "cell_type": "markdown",
   "metadata": {},
   "source": [
    "## 2. Decision Tree"
   ]
  },
  {
   "cell_type": "code",
   "execution_count": 15,
   "metadata": {},
   "outputs": [],
   "source": [
    "tree_pipe_all = Pipeline([\n",
    "    ('transformer', transformer),\n",
    "    ('tree', tree)\n",
    "])"
   ]
  },
  {
   "cell_type": "code",
   "execution_count": 16,
   "metadata": {},
   "outputs": [
    {
     "name": "stderr",
     "output_type": "stream",
     "text": [
      "[Parallel(n_jobs=-1)]: Using backend LokyBackend with 12 concurrent workers.\n",
      "[Parallel(n_jobs=-1)]: Done  26 tasks      | elapsed:    2.1s\n",
      "[Parallel(n_jobs=-1)]: Done  50 out of  50 | elapsed:    3.2s finished\n"
     ]
    }
   ],
   "source": [
    "rskf = RepeatedStratifiedKFold(n_splits=5, random_state=2021)\n",
    "tree_cv = cross_val_score(tree_pipe_all, x_train, y_train, cv = rskf, scoring='recall', verbose = 1, n_jobs = -1)"
   ]
  },
  {
   "cell_type": "code",
   "execution_count": 172,
   "metadata": {},
   "outputs": [
    {
     "name": "stdout",
     "output_type": "stream",
     "text": [
      "CV Decision Tree [0.45551601 0.48042705 0.56071429 0.49642857 0.52857143 0.48398577\n",
      " 0.5658363  0.47142857 0.48571429 0.52857143 0.49822064 0.51601423\n",
      " 0.46428571 0.525      0.48928571 0.50533808 0.54092527 0.525\n",
      " 0.50357143 0.52142857 0.46619217 0.53024911 0.45714286 0.50357143\n",
      " 0.49642857 0.46975089 0.47686833 0.49285714 0.55357143 0.51785714\n",
      " 0.46263345 0.48754448 0.52142857 0.525      0.55       0.51957295\n",
      " 0.4341637  0.53928571 0.55357143 0.45714286 0.46263345 0.51245552\n",
      " 0.52857143 0.525      0.525      0.52669039 0.51601423 0.5\n",
      " 0.49285714 0.52142857]\n",
      "CV Decision Tree Mean =  0.5054349262836808\n",
      "CV Decision Tree Max =  0.5658362989323843\n",
      "CV Decision Tree Min =  0.43416370106761565\n",
      "CV Decision Tree STD=  0.03056570742478234\n"
     ]
    }
   ],
   "source": [
    "print('CV Decision Tree', tree_cv)\n",
    "print('CV Decision Tree Mean = ', tree_cv.mean())\n",
    "print('CV Decision Tree Max = ', tree_cv.max())\n",
    "print('CV Decision Tree Min = ', tree_cv.min())\n",
    "print('CV Decision Tree STD= ', tree_cv.std())"
   ]
  },
  {
   "cell_type": "markdown",
   "metadata": {},
   "source": [
    "## 3. Random Forest"
   ]
  },
  {
   "cell_type": "code",
   "execution_count": 18,
   "metadata": {},
   "outputs": [],
   "source": [
    "rf_pipe_all = Pipeline([\n",
    "    ('transformer', transformer),\n",
    "    ('rf', rf)\n",
    "])"
   ]
  },
  {
   "cell_type": "code",
   "execution_count": 19,
   "metadata": {},
   "outputs": [
    {
     "name": "stderr",
     "output_type": "stream",
     "text": [
      "[Parallel(n_jobs=-1)]: Using backend LokyBackend with 12 concurrent workers.\n",
      "[Parallel(n_jobs=-1)]: Done  26 tasks      | elapsed:    4.3s\n",
      "[Parallel(n_jobs=-1)]: Done  50 out of  50 | elapsed:    6.9s finished\n"
     ]
    }
   ],
   "source": [
    "rskf = RepeatedStratifiedKFold(n_splits=5, random_state=2021)\n",
    "rf_cv = cross_val_score(rf_pipe_all, x_train, y_train, cv = rskf, scoring='recall', verbose = 1, n_jobs = -1)"
   ]
  },
  {
   "cell_type": "code",
   "execution_count": 173,
   "metadata": {},
   "outputs": [
    {
     "name": "stdout",
     "output_type": "stream",
     "text": [
      "CV Random Forest  [0.4519573  0.45551601 0.53214286 0.475      0.49642857 0.47330961\n",
      " 0.58007117 0.45357143 0.51428571 0.47142857 0.45907473 0.47686833\n",
      " 0.51071429 0.525      0.50357143 0.49466192 0.45551601 0.53928571\n",
      " 0.48214286 0.50357143 0.49466192 0.4911032  0.51785714 0.52142857\n",
      " 0.48928571 0.48754448 0.44839858 0.46428571 0.51428571 0.51785714\n",
      " 0.50177936 0.4911032  0.48214286 0.51785714 0.5        0.50177936\n",
      " 0.46263345 0.46785714 0.51071429 0.475      0.4519573  0.52313167\n",
      " 0.47857143 0.5        0.47857143 0.48754448 0.4911032  0.48214286\n",
      " 0.47857143 0.51071429]\n",
      "CV Random Forest Mean =  0.49188002033553635\n",
      "CV Random Forest Max =  0.5800711743772242\n",
      "CV Random Forest Min =  0.4483985765124555\n",
      "CV Random Forest STD =  0.026154818864767823\n"
     ]
    }
   ],
   "source": [
    "print('CV Random Forest ', rf_cv)\n",
    "print('CV Random Forest Mean = ', rf_cv.mean())\n",
    "print('CV Random Forest Max = ', rf_cv.max())\n",
    "print('CV Random Forest Min = ', rf_cv.min())\n",
    "print('CV Random Forest STD = ', rf_cv.std())"
   ]
  },
  {
   "cell_type": "markdown",
   "metadata": {},
   "source": [
    "## Conclusion :"
   ]
  },
  {
   "cell_type": "code",
   "execution_count": 21,
   "metadata": {},
   "outputs": [
    {
     "name": "stdout",
     "output_type": "stream",
     "text": [
      "CV Logistic Regression = 0.8025050838840876\n",
      "CV Decision Tree =  0.5054349262836808\n",
      "CV Random Forest =  0.49188002033553635\n"
     ]
    }
   ],
   "source": [
    "print('CV Logistic Regression =', logreg_cv.mean())\n",
    "print('CV Decision Tree = ', tree_cv.mean())\n",
    "print('CV Random Forest = ', rf_cv.mean())"
   ]
  },
  {
   "cell_type": "markdown",
   "metadata": {},
   "source": [
    "berdasarkan hasil recall, kestabilan, dan kecepatan performa model, model terbaik adalah **Logistic Regression**"
   ]
  },
  {
   "cell_type": "markdown",
   "metadata": {},
   "source": [
    "# Tune Model\n",
    "\n",
    "Selanjutnya model kita tuning dengan Selectpercentile untuk memilih fitur terbaik sehingga dapat menaikkan performa pada masing\" model "
   ]
  },
  {
   "cell_type": "markdown",
   "metadata": {},
   "source": [
    "## 1. Logistic Regression"
   ]
  },
  {
   "cell_type": "code",
   "execution_count": 22,
   "metadata": {},
   "outputs": [],
   "source": [
    "logreg_pipe_all_tuned = Pipeline([\n",
    "    ('transformer', transformer),\n",
    "    ('percent', SelectPercentile(percentile=50)),\n",
    "    ('logreg_tuned', logreg)\n",
    "])"
   ]
  },
  {
   "cell_type": "code",
   "execution_count": 23,
   "metadata": {},
   "outputs": [
    {
     "name": "stderr",
     "output_type": "stream",
     "text": [
      "[Parallel(n_jobs=-1)]: Using backend LokyBackend with 12 concurrent workers.\n",
      "[Parallel(n_jobs=-1)]: Done  26 tasks      | elapsed:    2.2s\n",
      "[Parallel(n_jobs=-1)]: Done  50 out of  50 | elapsed:    3.6s finished\n"
     ]
    }
   ],
   "source": [
    "rskf = RepeatedStratifiedKFold(random_state=2021)\n",
    "logreg_cv_tuned = cross_val_score(logreg_pipe_all_tuned, x_train, y_train, cv = rskf, scoring='recall', verbose = 1, n_jobs = -1)"
   ]
  },
  {
   "cell_type": "code",
   "execution_count": 174,
   "metadata": {},
   "outputs": [
    {
     "name": "stdout",
     "output_type": "stream",
     "text": [
      "CV Logistic Regression Percentile [0.73309609 0.75088968 0.82857143 0.79642857 0.83571429 0.79359431\n",
      " 0.81850534 0.75       0.79285714 0.825      0.79359431 0.76156584\n",
      " 0.82142857 0.76785714 0.8        0.82206406 0.77580071 0.78214286\n",
      " 0.78214286 0.8        0.82918149 0.77935943 0.77142857 0.77857143\n",
      " 0.79642857 0.77580071 0.77580071 0.78214286 0.81785714 0.81071429\n",
      " 0.80427046 0.80782918 0.76785714 0.77142857 0.79285714 0.7544484\n",
      " 0.78647687 0.825      0.825      0.78571429 0.76868327 0.83274021\n",
      " 0.78571429 0.8        0.78571429 0.79715302 0.77224199 0.80357143\n",
      " 0.76428571 0.82142857]\n",
      "CV Logistic Regression Percentile Mean = 0.7920190645653278\n",
      "CV Logistic Regression Percentile Max = 0.8357142857142857\n",
      "CV Logistic Regression Percentile Min = 0.7330960854092526\n",
      "CV Logistic Regression Percentile STD = 0.024189453642844222\n"
     ]
    }
   ],
   "source": [
    "print('CV Logistic Regression Percentile', logreg_cv_tuned)\n",
    "print('CV Logistic Regression Percentile Mean =', logreg_cv_tuned.mean())\n",
    "print('CV Logistic Regression Percentile Max =', logreg_cv_tuned.max())\n",
    "print('CV Logistic Regression Percentile Min =', logreg_cv_tuned.min())\n",
    "print('CV Logistic Regression Percentile STD =', logreg_cv_tuned.std())"
   ]
  },
  {
   "cell_type": "markdown",
   "metadata": {},
   "source": [
    "## 2. Decision Tree"
   ]
  },
  {
   "cell_type": "code",
   "execution_count": 25,
   "metadata": {},
   "outputs": [],
   "source": [
    "tree_pipe_all_tuned = Pipeline([\n",
    "    ('transformer', transformer),\n",
    "    ('percent', SelectPercentile(percentile=50)),\n",
    "    ('tree_tuned', tree)\n",
    "])"
   ]
  },
  {
   "cell_type": "code",
   "execution_count": 26,
   "metadata": {},
   "outputs": [
    {
     "name": "stderr",
     "output_type": "stream",
     "text": [
      "[Parallel(n_jobs=-1)]: Using backend LokyBackend with 12 concurrent workers.\n",
      "[Parallel(n_jobs=-1)]: Done  26 tasks      | elapsed:    1.6s\n",
      "[Parallel(n_jobs=-1)]: Done  50 out of  50 | elapsed:    2.7s finished\n"
     ]
    }
   ],
   "source": [
    "rskf = RepeatedStratifiedKFold(random_state=2021)\n",
    "tree_cv_tuned = cross_val_score(tree_pipe_all_tuned, x_train, y_train, cv = rskf, scoring='recall', verbose = 1, n_jobs = -1)"
   ]
  },
  {
   "cell_type": "code",
   "execution_count": 175,
   "metadata": {},
   "outputs": [
    {
     "name": "stdout",
     "output_type": "stream",
     "text": [
      "CV Decision Tree Percentile [0.43060498 0.49466192 0.54285714 0.48571429 0.55       0.43060498\n",
      " 0.5480427  0.47857143 0.48214286 0.51785714 0.52313167 0.44128114\n",
      " 0.47142857 0.50714286 0.475      0.48754448 0.45551601 0.50357143\n",
      " 0.48214286 0.43571429 0.48754448 0.46975089 0.49285714 0.51428571\n",
      " 0.51071429 0.5088968  0.47686833 0.48571429 0.53928571 0.48571429\n",
      " 0.51957295 0.4911032  0.48928571 0.55357143 0.52142857 0.57651246\n",
      " 0.45551601 0.51785714 0.48214286 0.50357143 0.47686833 0.53736655\n",
      " 0.51071429 0.525      0.5        0.46975089 0.48042705 0.50357143\n",
      " 0.49285714 0.50357143]\n",
      "CV Decision Tree Percentile Mean = 0.49651703101169287\n",
      "CV Decision Tree Percentile Max = 0.5765124555160143\n",
      "CV Decision Tree Percentile Min = 0.4306049822064057\n",
      "CV Decision Tree Percentile STD = 0.031468685030784975\n"
     ]
    }
   ],
   "source": [
    "print('CV Decision Tree Percentile', tree_cv_tuned)\n",
    "print('CV Decision Tree Percentile Mean =', tree_cv_tuned.mean())\n",
    "print('CV Decision Tree Percentile Max =', tree_cv_tuned.max())\n",
    "print('CV Decision Tree Percentile Min =', tree_cv_tuned.min())\n",
    "print('CV Decision Tree Percentile STD =', tree_cv_tuned.std())"
   ]
  },
  {
   "cell_type": "markdown",
   "metadata": {},
   "source": [
    "## 3. Random Forest"
   ]
  },
  {
   "cell_type": "code",
   "execution_count": 28,
   "metadata": {},
   "outputs": [],
   "source": [
    "rf_pipe_all_tuned = Pipeline([\n",
    "    ('transformer', transformer),\n",
    "    ('percent', SelectPercentile(percentile=50)),\n",
    "    ('rf_tuned', rf)\n",
    "])"
   ]
  },
  {
   "cell_type": "code",
   "execution_count": 29,
   "metadata": {},
   "outputs": [
    {
     "name": "stderr",
     "output_type": "stream",
     "text": [
      "[Parallel(n_jobs=-1)]: Using backend LokyBackend with 12 concurrent workers.\n",
      "[Parallel(n_jobs=-1)]: Done  26 tasks      | elapsed:    3.7s\n",
      "[Parallel(n_jobs=-1)]: Done  50 out of  50 | elapsed:    5.7s finished\n"
     ]
    }
   ],
   "source": [
    "rskf = RepeatedStratifiedKFold(random_state=2021)\n",
    "rf_cv_tuned = cross_val_score(rf_pipe_all_tuned, x_train, y_train, cv = rskf, scoring='recall', verbose = 1, n_jobs = -1)"
   ]
  },
  {
   "cell_type": "code",
   "execution_count": 176,
   "metadata": {},
   "outputs": [
    {
     "name": "stdout",
     "output_type": "stream",
     "text": [
      "CV Random Forest Percentile [0.44128114 0.42704626 0.53571429 0.51428571 0.48928571 0.44483986\n",
      " 0.55516014 0.45       0.45714286 0.48214286 0.48042705 0.4911032\n",
      " 0.50357143 0.47142857 0.48214286 0.47330961 0.42348754 0.5\n",
      " 0.43571429 0.5        0.48754448 0.47686833 0.5        0.51785714\n",
      " 0.5        0.49822064 0.46975089 0.48928571 0.47857143 0.48928571\n",
      " 0.51245552 0.48398577 0.49285714 0.55       0.49642857 0.51957295\n",
      " 0.4519573  0.5        0.50714286 0.47857143 0.4519573  0.51245552\n",
      " 0.49285714 0.53214286 0.47857143 0.48398577 0.47686833 0.45714286\n",
      " 0.48571429 0.50714286]\n",
      "CV Random Forest Percentile Mean = 0.48674555160142347\n",
      "CV Random Forest Percentile Max = 0.5551601423487544\n",
      "CV Random Forest Percentile Min = 0.4234875444839858\n",
      "CV Random Forest Percentile STD = 0.0283949319648618\n"
     ]
    }
   ],
   "source": [
    "print('CV Random Forest Percentile', rf_cv_tuned)\n",
    "print('CV Random Forest Percentile Mean =', rf_cv_tuned.mean())\n",
    "print('CV Random Forest Percentile Max =', rf_cv_tuned.max())\n",
    "print('CV Random Forest Percentile Min =', rf_cv_tuned.min())\n",
    "print('CV Random Forest Percentile STD =', rf_cv_tuned.std())"
   ]
  },
  {
   "cell_type": "markdown",
   "metadata": {},
   "source": [
    "## Conclusion :\n",
    "\n",
    "Walaupun terjadi penurunan nilai recall setelah di tuning, namun model terbaik setelah dilakukan tuning yakni tetap **Logistic Regression**"
   ]
  },
  {
   "cell_type": "markdown",
   "metadata": {},
   "source": [
    "# Hyperparameter Tuning\n",
    "\n",
    "Selanjutnya kita melakukan tuning pada model terpilih untuk mendapatkan parameter terbaik sehingga menghasilkan hasil prediksi terbaik"
   ]
  },
  {
   "cell_type": "code",
   "execution_count": 31,
   "metadata": {},
   "outputs": [
    {
     "data": {
      "text/plain": [
       "{'memory': None,\n",
       " 'steps': [('transformer',\n",
       "   ColumnTransformer(remainder='passthrough',\n",
       "                     transformers=[('Pipe_Num',\n",
       "                                    Pipeline(steps=[('Scaler', StandardScaler()),\n",
       "                                                    ('PCA', PCA(n_components=3))]),\n",
       "                                    ['TenureMonths', 'MonthlyCharges',\n",
       "                                     'TotalCharges']),\n",
       "                                   ('Pipe_Kat_onehot',\n",
       "                                    Pipeline(steps=[('Onehot',\n",
       "                                                     OneHotEncoder(drop='first'))]),\n",
       "                                    ['Gender', 'Partner', 'Dependents',\n",
       "                                     'PhoneService', 'PaperlessBilling',\n",
       "                                     'SeniorCitizen']),\n",
       "                                   ('Pipe_Kat_binary',\n",
       "                                    Pipeline(steps=[('Binary', BinaryEncoder())]),\n",
       "                                    ['MultipleLines', 'OnlineSecurity',\n",
       "                                     'OnlineBackup', 'DeviceProtection',\n",
       "                                     'TechSupport', 'StreamingTV',\n",
       "                                     'StreamingMovies', 'InternetService',\n",
       "                                     'Contract', 'PaymentMethod'])])),\n",
       "  ('percent', SelectPercentile(percentile=50)),\n",
       "  ('logreg_tuned',\n",
       "   LogisticRegression(class_weight='balanced', random_state=2021))],\n",
       " 'verbose': False,\n",
       " 'transformer': ColumnTransformer(remainder='passthrough',\n",
       "                   transformers=[('Pipe_Num',\n",
       "                                  Pipeline(steps=[('Scaler', StandardScaler()),\n",
       "                                                  ('PCA', PCA(n_components=3))]),\n",
       "                                  ['TenureMonths', 'MonthlyCharges',\n",
       "                                   'TotalCharges']),\n",
       "                                 ('Pipe_Kat_onehot',\n",
       "                                  Pipeline(steps=[('Onehot',\n",
       "                                                   OneHotEncoder(drop='first'))]),\n",
       "                                  ['Gender', 'Partner', 'Dependents',\n",
       "                                   'PhoneService', 'PaperlessBilling',\n",
       "                                   'SeniorCitizen']),\n",
       "                                 ('Pipe_Kat_binary',\n",
       "                                  Pipeline(steps=[('Binary', BinaryEncoder())]),\n",
       "                                  ['MultipleLines', 'OnlineSecurity',\n",
       "                                   'OnlineBackup', 'DeviceProtection',\n",
       "                                   'TechSupport', 'StreamingTV',\n",
       "                                   'StreamingMovies', 'InternetService',\n",
       "                                   'Contract', 'PaymentMethod'])]),\n",
       " 'percent': SelectPercentile(percentile=50),\n",
       " 'logreg_tuned': LogisticRegression(class_weight='balanced', random_state=2021),\n",
       " 'transformer__n_jobs': None,\n",
       " 'transformer__remainder': 'passthrough',\n",
       " 'transformer__sparse_threshold': 0.3,\n",
       " 'transformer__transformer_weights': None,\n",
       " 'transformer__transformers': [('Pipe_Num',\n",
       "   Pipeline(steps=[('Scaler', StandardScaler()), ('PCA', PCA(n_components=3))]),\n",
       "   ['TenureMonths', 'MonthlyCharges', 'TotalCharges']),\n",
       "  ('Pipe_Kat_onehot',\n",
       "   Pipeline(steps=[('Onehot', OneHotEncoder(drop='first'))]),\n",
       "   ['Gender',\n",
       "    'Partner',\n",
       "    'Dependents',\n",
       "    'PhoneService',\n",
       "    'PaperlessBilling',\n",
       "    'SeniorCitizen']),\n",
       "  ('Pipe_Kat_binary',\n",
       "   Pipeline(steps=[('Binary', BinaryEncoder())]),\n",
       "   ['MultipleLines',\n",
       "    'OnlineSecurity',\n",
       "    'OnlineBackup',\n",
       "    'DeviceProtection',\n",
       "    'TechSupport',\n",
       "    'StreamingTV',\n",
       "    'StreamingMovies',\n",
       "    'InternetService',\n",
       "    'Contract',\n",
       "    'PaymentMethod'])],\n",
       " 'transformer__verbose': False,\n",
       " 'transformer__Pipe_Num': Pipeline(steps=[('Scaler', StandardScaler()), ('PCA', PCA(n_components=3))]),\n",
       " 'transformer__Pipe_Kat_onehot': Pipeline(steps=[('Onehot', OneHotEncoder(drop='first'))]),\n",
       " 'transformer__Pipe_Kat_binary': Pipeline(steps=[('Binary', BinaryEncoder())]),\n",
       " 'transformer__Pipe_Num__memory': None,\n",
       " 'transformer__Pipe_Num__steps': [('Scaler', StandardScaler()),\n",
       "  ('PCA', PCA(n_components=3))],\n",
       " 'transformer__Pipe_Num__verbose': False,\n",
       " 'transformer__Pipe_Num__Scaler': StandardScaler(),\n",
       " 'transformer__Pipe_Num__PCA': PCA(n_components=3),\n",
       " 'transformer__Pipe_Num__Scaler__copy': True,\n",
       " 'transformer__Pipe_Num__Scaler__with_mean': True,\n",
       " 'transformer__Pipe_Num__Scaler__with_std': True,\n",
       " 'transformer__Pipe_Num__PCA__copy': True,\n",
       " 'transformer__Pipe_Num__PCA__iterated_power': 'auto',\n",
       " 'transformer__Pipe_Num__PCA__n_components': 3,\n",
       " 'transformer__Pipe_Num__PCA__random_state': None,\n",
       " 'transformer__Pipe_Num__PCA__svd_solver': 'auto',\n",
       " 'transformer__Pipe_Num__PCA__tol': 0.0,\n",
       " 'transformer__Pipe_Num__PCA__whiten': False,\n",
       " 'transformer__Pipe_Kat_onehot__memory': None,\n",
       " 'transformer__Pipe_Kat_onehot__steps': [('Onehot',\n",
       "   OneHotEncoder(drop='first'))],\n",
       " 'transformer__Pipe_Kat_onehot__verbose': False,\n",
       " 'transformer__Pipe_Kat_onehot__Onehot': OneHotEncoder(drop='first'),\n",
       " 'transformer__Pipe_Kat_onehot__Onehot__categories': 'auto',\n",
       " 'transformer__Pipe_Kat_onehot__Onehot__drop': 'first',\n",
       " 'transformer__Pipe_Kat_onehot__Onehot__dtype': numpy.float64,\n",
       " 'transformer__Pipe_Kat_onehot__Onehot__handle_unknown': 'error',\n",
       " 'transformer__Pipe_Kat_onehot__Onehot__sparse': True,\n",
       " 'transformer__Pipe_Kat_binary__memory': None,\n",
       " 'transformer__Pipe_Kat_binary__steps': [('Binary', BinaryEncoder())],\n",
       " 'transformer__Pipe_Kat_binary__verbose': False,\n",
       " 'transformer__Pipe_Kat_binary__Binary': BinaryEncoder(),\n",
       " 'transformer__Pipe_Kat_binary__Binary__cols': None,\n",
       " 'transformer__Pipe_Kat_binary__Binary__drop_invariant': False,\n",
       " 'transformer__Pipe_Kat_binary__Binary__handle_missing': 'value',\n",
       " 'transformer__Pipe_Kat_binary__Binary__handle_unknown': 'value',\n",
       " 'transformer__Pipe_Kat_binary__Binary__mapping': None,\n",
       " 'transformer__Pipe_Kat_binary__Binary__return_df': True,\n",
       " 'transformer__Pipe_Kat_binary__Binary__verbose': 0,\n",
       " 'percent__percentile': 50,\n",
       " 'percent__score_func': <function sklearn.feature_selection._univariate_selection.f_classif(X, y)>,\n",
       " 'logreg_tuned__C': 1.0,\n",
       " 'logreg_tuned__class_weight': 'balanced',\n",
       " 'logreg_tuned__dual': False,\n",
       " 'logreg_tuned__fit_intercept': True,\n",
       " 'logreg_tuned__intercept_scaling': 1,\n",
       " 'logreg_tuned__l1_ratio': None,\n",
       " 'logreg_tuned__max_iter': 100,\n",
       " 'logreg_tuned__multi_class': 'auto',\n",
       " 'logreg_tuned__n_jobs': None,\n",
       " 'logreg_tuned__penalty': 'l2',\n",
       " 'logreg_tuned__random_state': 2021,\n",
       " 'logreg_tuned__solver': 'lbfgs',\n",
       " 'logreg_tuned__tol': 0.0001,\n",
       " 'logreg_tuned__verbose': 0,\n",
       " 'logreg_tuned__warm_start': False}"
      ]
     },
     "execution_count": 31,
     "metadata": {},
     "output_type": "execute_result"
    }
   ],
   "source": [
    "logreg_pipe_all_tuned.get_params()"
   ]
  },
  {
   "cell_type": "code",
   "execution_count": 32,
   "metadata": {},
   "outputs": [
    {
     "name": "stdout",
     "output_type": "stream",
     "text": [
      "Fitting 5 folds for each of 288 candidates, totalling 1440 fits\n"
     ]
    },
    {
     "name": "stderr",
     "output_type": "stream",
     "text": [
      "C:\\Users\\ASUS\\AppData\\Local\\Programs\\Python\\Python39\\lib\\site-packages\\category_encoders\\utils.py:21: FutureWarning: is_categorical is deprecated and will be removed in a future version.  Use is_categorical_dtype instead\n",
      "  elif pd.api.types.is_categorical(cols):\n",
      "C:\\Users\\ASUS\\AppData\\Local\\Programs\\Python\\Python39\\lib\\site-packages\\sklearn\\feature_selection\\_univariate_selection.py:114: UserWarning: Features [ 9 12 15 18 21 24 27 30 33] are constant.\n",
      "  warnings.warn(\"Features %s are constant.\" % constant_features_idx,\n",
      "C:\\Users\\ASUS\\AppData\\Local\\Programs\\Python\\Python39\\lib\\site-packages\\sklearn\\feature_selection\\_univariate_selection.py:116: RuntimeWarning: invalid value encountered in true_divide\n",
      "  f = msb / msw\n"
     ]
    },
    {
     "data": {
      "text/plain": [
       "GridSearchCV(cv=StratifiedKFold(n_splits=5, random_state=None, shuffle=False),\n",
       "             estimator=Pipeline(steps=[('transformer',\n",
       "                                        ColumnTransformer(remainder='passthrough',\n",
       "                                                          transformers=[('Pipe_Num',\n",
       "                                                                         Pipeline(steps=[('Scaler',\n",
       "                                                                                          StandardScaler()),\n",
       "                                                                                         ('PCA',\n",
       "                                                                                          PCA(n_components=3))]),\n",
       "                                                                         ['TenureMonths',\n",
       "                                                                          'MonthlyCharges',\n",
       "                                                                          'TotalCharges']),\n",
       "                                                                        ('Pipe_Kat_onehot',\n",
       "                                                                         Pipeline(steps=[('Oneh...\n",
       "                                        SelectPercentile(percentile=50)),\n",
       "                                       ('logreg_tuned',\n",
       "                                        LogisticRegression(class_weight='balanced',\n",
       "                                                           random_state=2021))]),\n",
       "             n_jobs=-1,\n",
       "             param_grid={'logreg_tuned__C': [1000, 500, 100, 50, 10, 5, 1, 0.5,\n",
       "                                             0.1, 0.005, 0.01, 0.005, 0.001,\n",
       "                                             0.0005, 0.0001, 5e-05],\n",
       "                         'logreg_tuned__max_iter': [100, 200, 300, 400, 500,\n",
       "                                                    1000],\n",
       "                         'logreg_tuned__solver': ['lbfgs', 'liblinear',\n",
       "                                                  'newton-cg']},\n",
       "             scoring='recall', verbose=1)"
      ]
     },
     "execution_count": 32,
     "metadata": {},
     "output_type": "execute_result"
    }
   ],
   "source": [
    "logreg_params = ({\n",
    "    'logreg_tuned__C': [1000,500,100,50,10,5,1,0.5,0.1,0.005,0.01,0.005,0.001,0.0005, 0.0001, 0.00005],\n",
    "    'logreg_tuned__solver': ['lbfgs', 'liblinear', 'newton-cg'],\n",
    "    'logreg_tuned__max_iter':[100,200,300,400,500,1000]\n",
    "})\n",
    "\n",
    "skf = StratifiedKFold(n_splits=5)\n",
    "logreg_gridsearch = GridSearchCV(logreg_pipe_all_tuned, param_grid = logreg_params, scoring='recall', n_jobs=-1, cv= skf, verbose = 1, )\n",
    "logreg_gridsearch.fit(x_train, y_train)"
   ]
  },
  {
   "cell_type": "code",
   "execution_count": 33,
   "metadata": {},
   "outputs": [
    {
     "data": {
      "text/plain": [
       "{'logreg_tuned__C': 1000,\n",
       " 'logreg_tuned__max_iter': 100,\n",
       " 'logreg_tuned__solver': 'lbfgs'}"
      ]
     },
     "execution_count": 33,
     "metadata": {},
     "output_type": "execute_result"
    }
   ],
   "source": [
    "logreg_gridsearch.best_params_"
   ]
  },
  {
   "cell_type": "code",
   "execution_count": 34,
   "metadata": {},
   "outputs": [
    {
     "data": {
      "text/plain": [
       "Pipeline(steps=[('transformer',\n",
       "                 ColumnTransformer(remainder='passthrough',\n",
       "                                   transformers=[('Pipe_Num',\n",
       "                                                  Pipeline(steps=[('Scaler',\n",
       "                                                                   StandardScaler()),\n",
       "                                                                  ('PCA',\n",
       "                                                                   PCA(n_components=3))]),\n",
       "                                                  ['TenureMonths',\n",
       "                                                   'MonthlyCharges',\n",
       "                                                   'TotalCharges']),\n",
       "                                                 ('Pipe_Kat_onehot',\n",
       "                                                  Pipeline(steps=[('Onehot',\n",
       "                                                                   OneHotEncoder(drop='first'))]),\n",
       "                                                  ['Gender', 'Partner',\n",
       "                                                   'Dependents', 'PhoneService',\n",
       "                                                   'Pa...\n",
       "                                                 ('Pipe_Kat_binary',\n",
       "                                                  Pipeline(steps=[('Binary',\n",
       "                                                                   BinaryEncoder())]),\n",
       "                                                  ['MultipleLines',\n",
       "                                                   'OnlineSecurity',\n",
       "                                                   'OnlineBackup',\n",
       "                                                   'DeviceProtection',\n",
       "                                                   'TechSupport', 'StreamingTV',\n",
       "                                                   'StreamingMovies',\n",
       "                                                   'InternetService',\n",
       "                                                   'Contract',\n",
       "                                                   'PaymentMethod'])])),\n",
       "                ('percent', SelectPercentile(percentile=50)),\n",
       "                ('logreg_tuned',\n",
       "                 LogisticRegression(C=1000, class_weight='balanced',\n",
       "                                    random_state=2021))])"
      ]
     },
     "execution_count": 34,
     "metadata": {},
     "output_type": "execute_result"
    }
   ],
   "source": [
    "logreg_gridsearch.best_estimator_"
   ]
  },
  {
   "cell_type": "code",
   "execution_count": 178,
   "metadata": {},
   "outputs": [
    {
     "data": {
      "text/html": [
       "<div>\n",
       "<style scoped>\n",
       "    .dataframe tbody tr th:only-of-type {\n",
       "        vertical-align: middle;\n",
       "    }\n",
       "\n",
       "    .dataframe tbody tr th {\n",
       "        vertical-align: top;\n",
       "    }\n",
       "\n",
       "    .dataframe thead th {\n",
       "        text-align: right;\n",
       "    }\n",
       "</style>\n",
       "<table border=\"1\" class=\"dataframe\">\n",
       "  <thead>\n",
       "    <tr style=\"text-align: right;\">\n",
       "      <th></th>\n",
       "      <th>mean_fit_time</th>\n",
       "      <th>std_fit_time</th>\n",
       "      <th>mean_score_time</th>\n",
       "      <th>std_score_time</th>\n",
       "      <th>param_logreg_tuned__C</th>\n",
       "      <th>param_logreg_tuned__max_iter</th>\n",
       "      <th>param_logreg_tuned__solver</th>\n",
       "      <th>params</th>\n",
       "      <th>split0_test_score</th>\n",
       "      <th>split1_test_score</th>\n",
       "      <th>split2_test_score</th>\n",
       "      <th>split3_test_score</th>\n",
       "      <th>split4_test_score</th>\n",
       "      <th>mean_test_score</th>\n",
       "      <th>std_test_score</th>\n",
       "      <th>rank_test_score</th>\n",
       "    </tr>\n",
       "  </thead>\n",
       "  <tbody>\n",
       "    <tr>\n",
       "      <th>0</th>\n",
       "      <td>0.406542</td>\n",
       "      <td>0.013921</td>\n",
       "      <td>0.088362</td>\n",
       "      <td>0.005375</td>\n",
       "      <td>1000</td>\n",
       "      <td>100</td>\n",
       "      <td>lbfgs</td>\n",
       "      <td>{'logreg_tuned__C': 1000, 'logreg_tuned__max_i...</td>\n",
       "      <td>0.80427</td>\n",
       "      <td>0.797153</td>\n",
       "      <td>0.760714</td>\n",
       "      <td>0.778571</td>\n",
       "      <td>0.796429</td>\n",
       "      <td>0.787428</td>\n",
       "      <td>0.01582</td>\n",
       "      <td>1</td>\n",
       "    </tr>\n",
       "    <tr>\n",
       "      <th>1</th>\n",
       "      <td>0.431474</td>\n",
       "      <td>0.028993</td>\n",
       "      <td>0.097936</td>\n",
       "      <td>0.010391</td>\n",
       "      <td>1000</td>\n",
       "      <td>100</td>\n",
       "      <td>liblinear</td>\n",
       "      <td>{'logreg_tuned__C': 1000, 'logreg_tuned__max_i...</td>\n",
       "      <td>0.80427</td>\n",
       "      <td>0.797153</td>\n",
       "      <td>0.760714</td>\n",
       "      <td>0.778571</td>\n",
       "      <td>0.796429</td>\n",
       "      <td>0.787428</td>\n",
       "      <td>0.01582</td>\n",
       "      <td>1</td>\n",
       "    </tr>\n",
       "    <tr>\n",
       "      <th>2</th>\n",
       "      <td>0.515264</td>\n",
       "      <td>0.015175</td>\n",
       "      <td>0.090370</td>\n",
       "      <td>0.018069</td>\n",
       "      <td>1000</td>\n",
       "      <td>100</td>\n",
       "      <td>newton-cg</td>\n",
       "      <td>{'logreg_tuned__C': 1000, 'logreg_tuned__max_i...</td>\n",
       "      <td>0.80427</td>\n",
       "      <td>0.797153</td>\n",
       "      <td>0.760714</td>\n",
       "      <td>0.778571</td>\n",
       "      <td>0.796429</td>\n",
       "      <td>0.787428</td>\n",
       "      <td>0.01582</td>\n",
       "      <td>1</td>\n",
       "    </tr>\n",
       "    <tr>\n",
       "      <th>3</th>\n",
       "      <td>0.491153</td>\n",
       "      <td>0.013044</td>\n",
       "      <td>0.071411</td>\n",
       "      <td>0.003485</td>\n",
       "      <td>1000</td>\n",
       "      <td>200</td>\n",
       "      <td>lbfgs</td>\n",
       "      <td>{'logreg_tuned__C': 1000, 'logreg_tuned__max_i...</td>\n",
       "      <td>0.80427</td>\n",
       "      <td>0.797153</td>\n",
       "      <td>0.760714</td>\n",
       "      <td>0.778571</td>\n",
       "      <td>0.796429</td>\n",
       "      <td>0.787428</td>\n",
       "      <td>0.01582</td>\n",
       "      <td>1</td>\n",
       "    </tr>\n",
       "    <tr>\n",
       "      <th>4</th>\n",
       "      <td>0.416157</td>\n",
       "      <td>0.044038</td>\n",
       "      <td>0.067822</td>\n",
       "      <td>0.015175</td>\n",
       "      <td>1000</td>\n",
       "      <td>200</td>\n",
       "      <td>liblinear</td>\n",
       "      <td>{'logreg_tuned__C': 1000, 'logreg_tuned__max_i...</td>\n",
       "      <td>0.80427</td>\n",
       "      <td>0.797153</td>\n",
       "      <td>0.760714</td>\n",
       "      <td>0.778571</td>\n",
       "      <td>0.796429</td>\n",
       "      <td>0.787428</td>\n",
       "      <td>0.01582</td>\n",
       "      <td>1</td>\n",
       "    </tr>\n",
       "    <tr>\n",
       "      <th>5</th>\n",
       "      <td>0.468949</td>\n",
       "      <td>0.028204</td>\n",
       "      <td>0.082379</td>\n",
       "      <td>0.007372</td>\n",
       "      <td>1000</td>\n",
       "      <td>200</td>\n",
       "      <td>newton-cg</td>\n",
       "      <td>{'logreg_tuned__C': 1000, 'logreg_tuned__max_i...</td>\n",
       "      <td>0.80427</td>\n",
       "      <td>0.797153</td>\n",
       "      <td>0.760714</td>\n",
       "      <td>0.778571</td>\n",
       "      <td>0.796429</td>\n",
       "      <td>0.787428</td>\n",
       "      <td>0.01582</td>\n",
       "      <td>1</td>\n",
       "    </tr>\n",
       "    <tr>\n",
       "      <th>6</th>\n",
       "      <td>0.456183</td>\n",
       "      <td>0.008569</td>\n",
       "      <td>0.078788</td>\n",
       "      <td>0.003732</td>\n",
       "      <td>1000</td>\n",
       "      <td>300</td>\n",
       "      <td>lbfgs</td>\n",
       "      <td>{'logreg_tuned__C': 1000, 'logreg_tuned__max_i...</td>\n",
       "      <td>0.80427</td>\n",
       "      <td>0.797153</td>\n",
       "      <td>0.760714</td>\n",
       "      <td>0.778571</td>\n",
       "      <td>0.796429</td>\n",
       "      <td>0.787428</td>\n",
       "      <td>0.01582</td>\n",
       "      <td>1</td>\n",
       "    </tr>\n",
       "  </tbody>\n",
       "</table>\n",
       "</div>"
      ],
      "text/plain": [
       "   mean_fit_time  std_fit_time  mean_score_time  std_score_time  \\\n",
       "0       0.406542      0.013921         0.088362        0.005375   \n",
       "1       0.431474      0.028993         0.097936        0.010391   \n",
       "2       0.515264      0.015175         0.090370        0.018069   \n",
       "3       0.491153      0.013044         0.071411        0.003485   \n",
       "4       0.416157      0.044038         0.067822        0.015175   \n",
       "5       0.468949      0.028204         0.082379        0.007372   \n",
       "6       0.456183      0.008569         0.078788        0.003732   \n",
       "\n",
       "  param_logreg_tuned__C param_logreg_tuned__max_iter  \\\n",
       "0                  1000                          100   \n",
       "1                  1000                          100   \n",
       "2                  1000                          100   \n",
       "3                  1000                          200   \n",
       "4                  1000                          200   \n",
       "5                  1000                          200   \n",
       "6                  1000                          300   \n",
       "\n",
       "  param_logreg_tuned__solver  \\\n",
       "0                      lbfgs   \n",
       "1                  liblinear   \n",
       "2                  newton-cg   \n",
       "3                      lbfgs   \n",
       "4                  liblinear   \n",
       "5                  newton-cg   \n",
       "6                      lbfgs   \n",
       "\n",
       "                                              params  split0_test_score  \\\n",
       "0  {'logreg_tuned__C': 1000, 'logreg_tuned__max_i...            0.80427   \n",
       "1  {'logreg_tuned__C': 1000, 'logreg_tuned__max_i...            0.80427   \n",
       "2  {'logreg_tuned__C': 1000, 'logreg_tuned__max_i...            0.80427   \n",
       "3  {'logreg_tuned__C': 1000, 'logreg_tuned__max_i...            0.80427   \n",
       "4  {'logreg_tuned__C': 1000, 'logreg_tuned__max_i...            0.80427   \n",
       "5  {'logreg_tuned__C': 1000, 'logreg_tuned__max_i...            0.80427   \n",
       "6  {'logreg_tuned__C': 1000, 'logreg_tuned__max_i...            0.80427   \n",
       "\n",
       "   split1_test_score  split2_test_score  split3_test_score  split4_test_score  \\\n",
       "0           0.797153           0.760714           0.778571           0.796429   \n",
       "1           0.797153           0.760714           0.778571           0.796429   \n",
       "2           0.797153           0.760714           0.778571           0.796429   \n",
       "3           0.797153           0.760714           0.778571           0.796429   \n",
       "4           0.797153           0.760714           0.778571           0.796429   \n",
       "5           0.797153           0.760714           0.778571           0.796429   \n",
       "6           0.797153           0.760714           0.778571           0.796429   \n",
       "\n",
       "   mean_test_score  std_test_score  rank_test_score  \n",
       "0         0.787428         0.01582                1  \n",
       "1         0.787428         0.01582                1  \n",
       "2         0.787428         0.01582                1  \n",
       "3         0.787428         0.01582                1  \n",
       "4         0.787428         0.01582                1  \n",
       "5         0.787428         0.01582                1  \n",
       "6         0.787428         0.01582                1  "
      ]
     },
     "execution_count": 178,
     "metadata": {},
     "output_type": "execute_result"
    }
   ],
   "source": [
    "result = pd.DataFrame(logreg_gridsearch.cv_results_)\n",
    "result[result['rank_test_score'] < 5].head(7)"
   ]
  },
  {
   "cell_type": "code",
   "execution_count": 35,
   "metadata": {},
   "outputs": [
    {
     "name": "stderr",
     "output_type": "stream",
     "text": [
      "C:\\Users\\ASUS\\AppData\\Local\\Programs\\Python\\Python39\\lib\\site-packages\\category_encoders\\utils.py:21: FutureWarning: is_categorical is deprecated and will be removed in a future version.  Use is_categorical_dtype instead\n",
      "  elif pd.api.types.is_categorical(cols):\n"
     ]
    }
   ],
   "source": [
    "lg_default = logreg_pipe_all.fit(x_train,y_train)\n",
    "y_pred_lg = lg_default.predict(x_test)"
   ]
  },
  {
   "cell_type": "code",
   "execution_count": 36,
   "metadata": {},
   "outputs": [
    {
     "name": "stdout",
     "output_type": "stream",
     "text": [
      "              precision    recall  f1-score   support\n",
      "\n",
      "           0       0.91      0.72      0.81      1291\n",
      "           1       0.51      0.81      0.63       467\n",
      "\n",
      "    accuracy                           0.74      1758\n",
      "   macro avg       0.71      0.77      0.72      1758\n",
      "weighted avg       0.81      0.74      0.76      1758\n",
      "\n"
     ]
    }
   ],
   "source": [
    "print(classification_report(y_test, y_pred_lg))"
   ]
  },
  {
   "cell_type": "code",
   "execution_count": 37,
   "metadata": {},
   "outputs": [
    {
     "data": {
      "text/plain": [
       "Text(0.5, 1.0, 'Prediksi Sebelum Tuning')"
      ]
     },
     "execution_count": 37,
     "metadata": {},
     "output_type": "execute_result"
    },
    {
     "data": {
      "image/png": "[encoded data removed]",
      "text/plain": [
       "<Figure size 432x288 with 2 Axes>"
      ]
     },
     "metadata": {
      "needs_background": "light"
     },
     "output_type": "display_data"
    }
   ],
   "source": [
    "plot_confusion_matrix(lg_default,x_test,y_test)\n",
    "plt.title('Prediksi Sebelum Tuning')"
   ]
  },
  {
   "cell_type": "code",
   "execution_count": 38,
   "metadata": {},
   "outputs": [
    {
     "name": "stdout",
     "output_type": "stream",
     "text": [
      "Pelanggan yang Benar Terprediksi Churn (TP) : 51.22 %\n",
      "Pelanggan yang Benar Terprediksi Not Churn (TN) : 91.36 %\n",
      "Pelanggan Terprediksi Churn tetapi Not Churn (FP) : 48.78 %\n",
      "Pelanggan Terprediksi Not Churn tetapi Churn (FN) : 8.64 %\n"
     ]
    }
   ],
   "source": [
    "print(\"Pelanggan yang Benar Terprediksi Churn (TP) :\", round(379/(379+361)*100,2),\"%\")\n",
    "print(\"Pelanggan yang Benar Terprediksi Not Churn (TN) :\", round(930/(930+88)*100,2),\"%\")\n",
    "\n",
    "print(\"Pelanggan Terprediksi Churn tetapi Not Churn (FP) :\", round(361/(361+379)*100,2),\"%\")\n",
    "print(\"Pelanggan Terprediksi Not Churn tetapi Churn (FN) :\", round(88/(930+88)*100,2),\"%\")"
   ]
  },
  {
   "cell_type": "code",
   "execution_count": 51,
   "metadata": {},
   "outputs": [
    {
     "name": "stderr",
     "output_type": "stream",
     "text": [
      "C:\\Users\\ASUS\\AppData\\Local\\Programs\\Python\\Python39\\lib\\site-packages\\category_encoders\\utils.py:21: FutureWarning: is_categorical is deprecated and will be removed in a future version.  Use is_categorical_dtype instead\n",
      "  elif pd.api.types.is_categorical(cols):\n",
      "C:\\Users\\ASUS\\AppData\\Local\\Programs\\Python\\Python39\\lib\\site-packages\\sklearn\\feature_selection\\_univariate_selection.py:114: UserWarning: Features [ 9 12 15 18 21 24 27 30 33] are constant.\n",
      "  warnings.warn(\"Features %s are constant.\" % constant_features_idx,\n",
      "C:\\Users\\ASUS\\AppData\\Local\\Programs\\Python\\Python39\\lib\\site-packages\\sklearn\\feature_selection\\_univariate_selection.py:116: RuntimeWarning: invalid value encountered in true_divide\n",
      "  f = msb / msw\n"
     ]
    }
   ],
   "source": [
    "lg_tuned = logreg_gridsearch.best_estimator_.fit(x_train,y_train)\n",
    "y_pred_lg_tuned = lg_tuned.predict(x_test)"
   ]
  },
  {
   "cell_type": "code",
   "execution_count": 52,
   "metadata": {},
   "outputs": [
    {
     "name": "stdout",
     "output_type": "stream",
     "text": [
      "              precision    recall  f1-score   support\n",
      "\n",
      "           0       0.91      0.72      0.81      1291\n",
      "           1       0.51      0.80      0.62       467\n",
      "\n",
      "    accuracy                           0.74      1758\n",
      "   macro avg       0.71      0.76      0.71      1758\n",
      "weighted avg       0.80      0.74      0.76      1758\n",
      "\n"
     ]
    }
   ],
   "source": [
    "print(classification_report(y_test, y_pred_lg_tuned))"
   ]
  },
  {
   "cell_type": "code",
   "execution_count": 53,
   "metadata": {},
   "outputs": [
    {
     "data": {
      "text/plain": [
       "Text(0.5, 1.0, 'Prediksi Setelah Tuning')"
      ]
     },
     "execution_count": 53,
     "metadata": {},
     "output_type": "execute_result"
    },
    {
     "data": {
      "image/png": "[encoded data removed]",
      "text/plain": [
       "<Figure size 432x288 with 2 Axes>"
      ]
     },
     "metadata": {
      "needs_background": "light"
     },
     "output_type": "display_data"
    }
   ],
   "source": [
    "plot_confusion_matrix(lg_tuned,x_test,y_test)\n",
    "plt.title('Prediksi Setelah Tuning')"
   ]
  },
  {
   "cell_type": "code",
   "execution_count": 42,
   "metadata": {},
   "outputs": [
    {
     "name": "stdout",
     "output_type": "stream",
     "text": [
      "Pelanggan yang Benar Terprediksi Churn (TP) : 51.03 %\n",
      "Pelanggan yang Benar Terprediksi Not Churn (TN) : 90.77 %\n",
      "Pelanggan Terprediksi Churn tetapi Not Churn (FP) : 48.97 %\n",
      "Pelanggan Terprediksi Not Churn tetapi Churn (FN) : 9.23 %\n"
     ]
    }
   ],
   "source": [
    "print(\"Pelanggan yang Benar Terprediksi Churn (TP) :\", round(372/(372+357)*100,2),\"%\")\n",
    "print(\"Pelanggan yang Benar Terprediksi Not Churn (TN) :\", round(934/(934+95)*100,2),\"%\")\n",
    "\n",
    "print(\"Pelanggan Terprediksi Churn tetapi Not Churn (FP) :\", round(357/(372+357)*100,2),\"%\")\n",
    "print(\"Pelanggan Terprediksi Not Churn tetapi Churn (FN) :\", round(95/(934+95)*100,2),\"%\")"
   ]
  },
  {
   "cell_type": "code",
   "execution_count": 59,
   "metadata": {},
   "outputs": [
    {
     "data": {
      "text/plain": [
       "<sklearn.metrics._plot.precision_recall_curve.PrecisionRecallDisplay at 0x25d0f7cc490>"
      ]
     },
     "execution_count": 59,
     "metadata": {},
     "output_type": "execute_result"
    },
    {
     "data": {
      "image/png": "[encoded data removed]",
      "text/plain": [
       "<Figure size 432x288 with 1 Axes>"
      ]
     },
     "metadata": {
      "needs_background": "light"
     },
     "output_type": "display_data"
    }
   ],
   "source": [
    "plot_precision_recall_curve(logreg_pipe_all, x_test, y_test)\n"
   ]
  },
  {
   "cell_type": "markdown",
   "metadata": {},
   "source": [
    "# Prediction on Dataset\n",
    "\n",
    "Selanjutnya, kita dapat fokus pada pelanggan belum beralih (Churn = 0) yang kemungkinan akan beralih dengan melihat probabilitasnya, sehingga dapat dilakukan penanganan tertentu untuk menghindari perilaku churn tersebut"
   ]
  },
  {
   "cell_type": "code",
   "execution_count": 155,
   "metadata": {},
   "outputs": [],
   "source": [
    "predict = pd.DataFrame()\n",
    "predict['Prediction'] = logreg_pipe_all.predict_proba(x_test)[:,1]\n",
    "predict['Churn'] = df['Churn']\n",
    "predict['CustomerID'] = df['CustomerID']"
   ]
  },
  {
   "cell_type": "code",
   "execution_count": 164,
   "metadata": {},
   "outputs": [
    {
     "name": "stdout",
     "output_type": "stream",
     "text": [
      "Mean predict proba of churn: 0.4025\n",
      "Mean predict proba of NON-churn: 0.4233\n"
     ]
    }
   ],
   "source": [
    "print('Mean predict proba of churn:',round(predict[predict['Churn'] == 1]['Prediction'].mean(),4))\n",
    "print('Mean predict proba of NON-churn:',round(predict[predict['Churn'] == 0]['Prediction'].mean(),4))"
   ]
  },
  {
   "cell_type": "code",
   "execution_count": 177,
   "metadata": {},
   "outputs": [
    {
     "data": {
      "text/html": [
       "<div>\n",
       "<style scoped>\n",
       "    .dataframe tbody tr th:only-of-type {\n",
       "        vertical-align: middle;\n",
       "    }\n",
       "\n",
       "    .dataframe tbody tr th {\n",
       "        vertical-align: top;\n",
       "    }\n",
       "\n",
       "    .dataframe thead th {\n",
       "        text-align: right;\n",
       "    }\n",
       "</style>\n",
       "<table border=\"1\" class=\"dataframe\">\n",
       "  <thead>\n",
       "    <tr style=\"text-align: right;\">\n",
       "      <th></th>\n",
       "      <th>Prediction</th>\n",
       "      <th>Churn</th>\n",
       "      <th>CustomerID</th>\n",
       "    </tr>\n",
       "  </thead>\n",
       "  <tbody>\n",
       "    <tr>\n",
       "      <th>0</th>\n",
       "      <td>0.811640</td>\n",
       "      <td>0</td>\n",
       "      <td>7590-VHVEG</td>\n",
       "    </tr>\n",
       "    <tr>\n",
       "      <th>1</th>\n",
       "      <td>0.806372</td>\n",
       "      <td>0</td>\n",
       "      <td>5575-GNVDE</td>\n",
       "    </tr>\n",
       "    <tr>\n",
       "      <th>3</th>\n",
       "      <td>0.915785</td>\n",
       "      <td>0</td>\n",
       "      <td>7795-CFOCW</td>\n",
       "    </tr>\n",
       "    <tr>\n",
       "      <th>6</th>\n",
       "      <td>0.045839</td>\n",
       "      <td>0</td>\n",
       "      <td>1452-KIOVK</td>\n",
       "    </tr>\n",
       "    <tr>\n",
       "      <th>7</th>\n",
       "      <td>0.082764</td>\n",
       "      <td>0</td>\n",
       "      <td>6713-OKOMC</td>\n",
       "    </tr>\n",
       "    <tr>\n",
       "      <th>...</th>\n",
       "      <td>...</td>\n",
       "      <td>...</td>\n",
       "      <td>...</td>\n",
       "    </tr>\n",
       "    <tr>\n",
       "      <th>1753</th>\n",
       "      <td>0.702883</td>\n",
       "      <td>0</td>\n",
       "      <td>5848-FHRFC</td>\n",
       "    </tr>\n",
       "    <tr>\n",
       "      <th>1754</th>\n",
       "      <td>0.078958</td>\n",
       "      <td>0</td>\n",
       "      <td>2243-FNMMI</td>\n",
       "    </tr>\n",
       "    <tr>\n",
       "      <th>1755</th>\n",
       "      <td>0.643737</td>\n",
       "      <td>0</td>\n",
       "      <td>2511-MORQY</td>\n",
       "    </tr>\n",
       "    <tr>\n",
       "      <th>1756</th>\n",
       "      <td>0.190900</td>\n",
       "      <td>0</td>\n",
       "      <td>5356-KZCKT</td>\n",
       "    </tr>\n",
       "    <tr>\n",
       "      <th>1757</th>\n",
       "      <td>0.758408</td>\n",
       "      <td>0</td>\n",
       "      <td>9470-XCCEM</td>\n",
       "    </tr>\n",
       "  </tbody>\n",
       "</table>\n",
       "<p>1298 rows × 3 columns</p>\n",
       "</div>"
      ],
      "text/plain": [
       "      Prediction  Churn  CustomerID\n",
       "0       0.811640      0  7590-VHVEG\n",
       "1       0.806372      0  5575-GNVDE\n",
       "3       0.915785      0  7795-CFOCW\n",
       "6       0.045839      0  1452-KIOVK\n",
       "7       0.082764      0  6713-OKOMC\n",
       "...          ...    ...         ...\n",
       "1753    0.702883      0  5848-FHRFC\n",
       "1754    0.078958      0  2243-FNMMI\n",
       "1755    0.643737      0  2511-MORQY\n",
       "1756    0.190900      0  5356-KZCKT\n",
       "1757    0.758408      0  9470-XCCEM\n",
       "\n",
       "[1298 rows x 3 columns]"
      ]
     },
     "execution_count": 177,
     "metadata": {},
     "output_type": "execute_result"
    }
   ],
   "source": [
    "predict[predict['Churn'] == 0]"
   ]
  },
  {
   "cell_type": "markdown",
   "metadata": {},
   "source": [
    "# Final Conclusion"
   ]
  },
  {
   "cell_type": "markdown",
   "metadata": {},
   "source": [
    "- Model klasifikasi yang dipilih adalah _Logistic Regression_, hal ini berdasarkan pertimbangan dari hasil _recall_, kecepatan performa dan kestabilan model _Logistic Regression_ yang lebih baik dari model lainnya , saya menggunakan model _Logistic Regression_ tanpa tuning dikarenakan performa yang lebih baik yakni sebesar 80% dibandingkan setelah tuning yang menurun menjadi 79%\n",
    "\n",
    "- Berdasarkan korelasi variabel numerik, dapat dilihat fitur _Monthly Charges_ cukup berpengaruh terhadap _Churn_, artinya besaran biaya bulanan pelanggan cukup mempengaruhi pelanggan untuk beralih, sehingga harus diperhatikan besaran biaya dengan kemampuan keuangan setiap pelanggan untuk menghidari pelanggan beralih\n",
    "\n",
    "- Pada _Confusion Matrix_ , model _Machine Learning_ yang dikembangkan dapat meminimalisir kesalahan prediksi pelanggan _Not Churn_ tetapi sebenarnya _Churn_ (FN) yang hanya sebesar 8,64%, artinya dari 100 pelanggan yang diteliti, hanya ada 9 pelanggan yang salah prediksi atau pelanggan yang beralih dan tidak mendapatkan pelakuan tertentu, hal ini menjadi fokus karena pada penelitian ini saya mengutamakan penurunan _False Negatif Rate_, karena berbahaya jika perusahaan tidak melakukan perlakuan tertentu terhadap pelanggan yang ingin beralih hanya karena salah prediksi \n",
    "\n",
    "- Namun disini juga harus diperhatikan bahwa _False Positive Rate_ yang tinggi yakni sebesar 48,97%, artinya dari 100 pelanggan yang diteliti, terdapat 49 pelanggan yang mendapat pelakuan tertentu yang sebenarnya tidak perlu dikarenakan pelanggan tersebut sebenarnya tidak berpotensi untuk beralih, hal ini jika berlanjut dapat menjadi sumber kerugian perusahaan\n",
    "\n",
    "- Di akhir, saya membuat prediksi pada dataset berdasarkan _test set_ dengan memberikan probabilitas pada setiap kelas, untuk memetakan pelanggan mana saja yang bertahan namun memiliki potensi untuk _Churn_, dengan melihat rata\" nilai probabilitas _Non Churn_ yang mana jika pelanggan (_churn_ = 0) dengan nilai probabilitas < 0,4233, artinya memiliki indikasi untuk beralih. Pemetaan ini juga menjadi wujud supaya hasil penelitian ini dapat langsung diaplikasikan pada produk yang membutuhkan dan dapat meningkatkan akurasi prediksi."
   ]
  }
 ],
 "metadata": {
  "interpreter": {
   "hash": "8da01e5a71448ea74f54d88afa8911010d1d12e23bc7e103d40d5def4a09152c"
  },
  "kernelspec": {
   "display_name": "Python 3.9.2 64-bit",
   "name": "python3"
  },
  "language_info": {
   "codemirror_mode": {
    "name": "ipython",
    "version": 3
   },
   "file_extension": ".py",
   "mimetype": "text/x-python",
   "name": "python",
   "nbconvert_exporter": "python",
   "pygments_lexer": "ipython3",
   "version": "3.9.2"
  },
  "orig_nbformat": 4
 },
 "nbformat": 4,
 "nbformat_minor": 2
}
